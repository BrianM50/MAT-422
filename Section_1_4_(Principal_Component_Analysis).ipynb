{
  "nbformat": 4,
  "nbformat_minor": 0,
  "metadata": {
    "colab": {
      "provenance": [],
      "authorship_tag": "ABX9TyPn5k+OblajKiMmJohc+sKD",
      "include_colab_link": true
    },
    "kernelspec": {
      "name": "python3",
      "display_name": "Python 3"
    },
    "language_info": {
      "name": "python"
    }
  },
  "cells": [
    {
      "cell_type": "markdown",
      "metadata": {
        "id": "view-in-github",
        "colab_type": "text"
      },
      "source": [
        "<a href=\"https://colab.research.google.com/github/BrianM50/MAT-422/blob/main/Section_1_4_(Principal_Component_Analysis).ipynb\" target=\"_parent\"><img src=\"https://colab.research.google.com/assets/colab-badge.svg\" alt=\"Open In Colab\"/></a>"
      ]
    },
    {
      "cell_type": "code",
      "execution_count": null,
      "metadata": {
        "id": "-mEHJJp0eVqH",
        "colab": {
          "base_uri": "https://localhost:8080/"
        },
        "outputId": "4ef2e2ec-a094-4a5f-d223-6fb2c2d430c8"
      },
      "outputs": [
        {
          "output_type": "stream",
          "name": "stdout",
          "text": [
            "Singular Value Decomposition states that a matrix can be shown as the product of three matrices.\n",
            "A = U∑V^(T) \n",
            "Where A is the original matrix. \n",
            " U and V^(T) are orthogonal matrices. \n",
            " ∑ is an mxn diagonal matrix of singular values. \n",
            "\n",
            "A =\n",
            "[[5 7 1]\n",
            " [2 3 9]\n",
            " [7 1 3]] \n",
            "\n",
            "Using SVD we find the three matrices U, ∑, and V^(T) \n",
            "\n",
            "U = \n",
            "[[-0.55794999  0.64620477 -0.52068339]\n",
            " [-0.6503067  -0.73023517 -0.20942252]\n",
            " [-0.51555116  0.22175661  0.827666  ]] \n",
            "\n",
            "∑ = \n",
            "[12.77503733  6.72614861  4.42236883] \n",
            "\n",
            "V^(T) = \n",
            "[[-0.60267702 -0.49879472 -0.6228838 ]\n",
            " [ 0.49401968  0.37978413 -0.782118  ]\n",
            " [ 0.62667772 -0.7790814   0.01752724]] \n",
            "\n"
          ]
        }
      ],
      "source": [
        "print('Singular Value Decomposition states that a matrix can be shown as the product of three matrices.')\n",
        "print('A = U∑V^(T) ')\n",
        "print('Where A is the original matrix. \\n','U and V^(T) are orthogonal matrices. \\n','∑ is an mxn diagonal matrix of singular values. \\n')\n",
        "\n",
        "import numpy as np\n",
        "A = np.array([[5,7,1],[2,3,9],[7,1,3]])\n",
        "print('A =')\n",
        "print(A,'\\n')\n",
        "\n",
        "U, D, VT = np.linalg.svd(A)\n",
        "\n",
        "print('Using SVD we find the three matrices U, ∑, and V^(T) \\n')\n",
        "print('U = ')\n",
        "print(U,'\\n')\n",
        "print('∑ = ')\n",
        "print(D,'\\n')\n",
        "print('V^(T) = ')\n",
        "print(VT,'\\n')"
      ]
    },
    {
      "cell_type": "code",
      "source": [
        "import numpy as np\n",
        "from sklearn.datasets import load_digits\n",
        "from matplotlib import pyplot as plt\n",
        "\n",
        "print('Singular Value Decomposition can be used in many applications such as dimensionality reduction, image compression, and denoising data.')\n",
        "print('')\n",
        "print('We will use a dataset that contains 1797 8x8 images to classify handwritten digits.')\n",
        "X, y = load_digits(return_X_y=True)\n",
        "print('X = ', X.shape)\n",
        "print('y contains labels for every digit')\n",
        "print('y = ',y)"
      ],
      "metadata": {
        "colab": {
          "base_uri": "https://localhost:8080/"
        },
        "id": "ZQu7wXS2VnMM",
        "outputId": "36fd07b3-1c6f-4956-d39e-3fca2493805a"
      },
      "execution_count": 1,
      "outputs": [
        {
          "output_type": "stream",
          "name": "stdout",
          "text": [
            "Singular Value Decomposition can be used in many applications such as dimensionality reduction, image compression, and denoising data.\n",
            "\n",
            "We will use a dataset that contains 1797 8x8 images to classify handwritten digits.\n",
            "X =  (1797, 64)\n",
            "y contains labels for every digit\n",
            "y =  [0 1 2 ... 8 9 8]\n"
          ]
        }
      ]
    },
    {
      "cell_type": "code",
      "source": [
        "print('The second digit is an array of length 64 containing pixel intensities.\\n')\n",
        "image = X[1]\n",
        "print('X[1] = \\n',image)\n",
        "\n",
        "image = image.reshape((8, 8))\n",
        "plt.matshow(image, cmap = 'Blues')"
      ],
      "metadata": {
        "colab": {
          "base_uri": "https://localhost:8080/",
          "height": 593
        },
        "id": "7fRqteo_OqzP",
        "outputId": "3b5086ee-351d-4563-fc42-0539ca0d8080"
      },
      "execution_count": null,
      "outputs": [
        {
          "output_type": "stream",
          "name": "stdout",
          "text": [
            "The second digit is an array of length 64 containing pixel intensities.\n",
            "\n",
            "X[1] = \n",
            " [0.00 0.00 0.00 12.00 13.00 5.00 0.00 0.00 0.00 0.00 0.00 11.00 16.00 9.00\n",
            " 0.00 0.00 0.00 0.00 3.00 15.00 16.00 6.00 0.00 0.00 0.00 7.00 15.00 16.00\n",
            " 16.00 2.00 0.00 0.00 0.00 0.00 1.00 16.00 16.00 3.00 0.00 0.00 0.00 0.00\n",
            " 1.00 16.00 16.00 6.00 0.00 0.00 0.00 0.00 1.00 16.00 16.00 6.00 0.00 0.00\n",
            " 0.00 0.00 0.00 11.00 16.00 10.00 0.00 0.00]\n"
          ]
        },
        {
          "output_type": "execute_result",
          "data": {
            "text/plain": [
              "<matplotlib.image.AxesImage at 0x797050b81420>"
            ]
          },
          "metadata": {},
          "execution_count": 51
        },
        {
          "output_type": "display_data",
          "data": {
            "text/plain": [
              "<Figure size 480x480 with 1 Axes>"
            ],
            "image/png": "[encoded data removed]"
          },
          "metadata": {}
        }
      ]
    },
    {
      "cell_type": "code",
      "source": [
        "print('Using Singular Value Decomposition, we see if we can reconstuct the image using 2 features for each row.\\n')\n",
        "U, D, V = np.linalg.svd(image)\n",
        "S = np.zeros((image.shape[0], image.shape[1]))\n",
        "S[:image.shape[1], :image.shape[1]] = np.diag(D)\n",
        "n_component = 2\n",
        "Sigma = S[:, :n_component]\n",
        "VT = V[:n_component, :]\n",
        "A = U.dot(Sigma.dot(VT))\n",
        "print(A)\n",
        "\n",
        "plt.matshow(A, cmap = 'Blues')"
      ],
      "metadata": {
        "colab": {
          "base_uri": "https://localhost:8080/",
          "height": 628
        },
        "id": "VyE21a_5Pfg3",
        "outputId": "238902cf-833f-497f-dab4-ec40df882715"
      },
      "execution_count": null,
      "outputs": [
        {
          "output_type": "stream",
          "name": "stdout",
          "text": [
            "Using Singular Value Decomposition, we see if we can reconstuct the image using 2 features for each row.\n",
            "\n",
            "[[0.00 -0.12 0.43 11.52 13.13 5.65 0.00 0.00]\n",
            " [0.00 -0.78 -0.85 12.98 15.12 7.06 0.00 0.00]\n",
            " [0.00 0.87 2.69 14.71 16.23 6.10 0.00 0.00]\n",
            " [0.00 6.56 14.61 16.83 15.72 0.98 0.00 0.00]\n",
            " [0.00 0.70 2.30 14.42 15.99 6.15 0.00 0.00]\n",
            " [0.00 0.27 1.45 14.83 16.67 6.80 0.00 0.00]\n",
            " [0.00 0.27 1.45 14.83 16.67 6.80 0.00 0.00]\n",
            " [0.00 -0.92 -1.13 13.12 15.35 7.27 0.00 0.00]]\n"
          ]
        },
        {
          "output_type": "execute_result",
          "data": {
            "text/plain": [
              "<matplotlib.image.AxesImage at 0x797050c098a0>"
            ]
          },
          "metadata": {},
          "execution_count": 52
        },
        {
          "output_type": "display_data",
          "data": {
            "text/plain": [
              "<Figure size 480x480 with 1 Axes>"
            ],
            "image/png": "[encoded data removed]"
          },
          "metadata": {}
        }
      ]
    },
    {
      "cell_type": "code",
      "source": [
        "print('Principal Component analysis is used to reduce high dimensional data to lower dimensions while keeping the variability of the dataset.')\n",
        "\n",
        "X = np.random.randint(20,60,100).reshape(20,5)\n",
        "print(X)\n",
        "\n",
        "print('')\n",
        "print('To make the dataset centered on the origin, we subtract the mean of each variable from the dataset.')\n",
        "X_meaned = X - np.mean(X, axis = 0)\n",
        "print('X - mean =')\n",
        "print(X_meaned)\n"
      ],
      "metadata": {
        "colab": {
          "base_uri": "https://localhost:8080/"
        },
        "id": "7v3nefUwfu1i",
        "outputId": "d0b308cc-108b-4b99-c960-51cc90779ee1"
      },
      "execution_count": null,
      "outputs": [
        {
          "output_type": "stream",
          "name": "stdout",
          "text": [
            "Principal Component analysis is used to reduce high dimensional data to lower dimensions while keeping the variability of the dataset.\n",
            "[[33 48 23 41 43]\n",
            " [23 24 32 36 26]\n",
            " [38 58 29 36 44]\n",
            " [20 36 41 26 40]\n",
            " [38 52 55 33 35]\n",
            " [34 56 35 39 25]\n",
            " [22 59 42 37 53]\n",
            " [40 53 27 58 56]\n",
            " [49 26 50 28 47]\n",
            " [57 20 37 24 42]\n",
            " [36 56 57 43 24]\n",
            " [54 43 48 58 34]\n",
            " [32 40 22 33 34]\n",
            " [52 32 47 26 53]\n",
            " [34 22 32 31 23]\n",
            " [29 33 39 24 56]\n",
            " [26 35 35 26 45]\n",
            " [23 57 38 31 52]\n",
            " [57 38 40 57 36]\n",
            " [25 26 25 54 32]]\n",
            "\n",
            "To make the dataset centered on the origin, we subtract the mean of each variable from the dataset.\n",
            "X - mean =\n",
            "[[-3.10 7.30 -14.70 3.95 3.00]\n",
            " [-13.10 -16.70 -5.70 -1.05 -14.00]\n",
            " [1.90 17.30 -8.70 -1.05 4.00]\n",
            " [-16.10 -4.70 3.30 -11.05 0.00]\n",
            " [1.90 11.30 17.30 -4.05 -5.00]\n",
            " [-2.10 15.30 -2.70 1.95 -15.00]\n",
            " [-14.10 18.30 4.30 -0.05 13.00]\n",
            " [3.90 12.30 -10.70 20.95 16.00]\n",
            " [12.90 -14.70 12.30 -9.05 7.00]\n",
            " [20.90 -20.70 -0.70 -13.05 2.00]\n",
            " [-0.10 15.30 19.30 5.95 -16.00]\n",
            " [17.90 2.30 10.30 20.95 -6.00]\n",
            " [-4.10 -0.70 -15.70 -4.05 -6.00]\n",
            " [15.90 -8.70 9.30 -11.05 13.00]\n",
            " [-2.10 -18.70 -5.70 -6.05 -17.00]\n",
            " [-7.10 -7.70 1.30 -13.05 16.00]\n",
            " [-10.10 -5.70 -2.70 -11.05 5.00]\n",
            " [-13.10 16.30 0.30 -6.05 12.00]\n",
            " [20.90 -2.70 2.30 19.95 -4.00]\n",
            " [-11.10 -14.70 -12.70 16.95 -8.00]]\n"
          ]
        }
      ]
    },
    {
      "cell_type": "code",
      "source": [
        "print('We use the mean-centered data to calculate the Covariance Matrix.\\n', 'The Covariance Matrix is a nxn matrix giving the covariance between each pair of elements of a given random vector.')\n",
        "cov_mat = np.cov(X_meaned , rowvar = False)\n",
        "print('Covariance Matrix =')\n",
        "print(cov_mat)"
      ],
      "metadata": {
        "colab": {
          "base_uri": "https://localhost:8080/"
        },
        "id": "sWyGi9Mpp5bv",
        "outputId": "bd81ed8f-6833-45dc-c87e-e23682b416b2"
      },
      "execution_count": null,
      "outputs": [
        {
          "output_type": "stream",
          "name": "stdout",
          "text": [
            "We use the mean-centered data to calculate the Covariance Matrix.\n",
            " The Covariance Matrix is a nxn matrix giving the covariance between each pair of elements of a given random vector.\n",
            "Covariance Matrix =\n",
            "[[144.62 -31.02 38.98 31.52 3.16]\n",
            " [-31.02 178.54 15.96 44.07 23.79]\n",
            " [38.98 15.96 102.43 -16.51 -1.63]\n",
            " [31.52 44.07 -16.51 132.37 -27.95]\n",
            " [3.16 23.79 -1.63 -27.95 117.89]]\n"
          ]
        }
      ]
    },
    {
      "cell_type": "code",
      "source": [
        "print('Then we find the Eigenvectors and Eigenvectors of the Covariance Matrix and sort the Eigenvalues in descending order.')\n",
        "eigen_values , eigen_vectors = np.linalg.eigh(cov_mat)\n",
        "sorted_index = np.argsort(eigen_values)[::-1]\n",
        "sorted_eigenvalue = eigen_values[sorted_index]\n",
        "sorted_eigenvectors = eigen_vectors[:,sorted_index]\n",
        "n_components = 3\n",
        "eigenvector_subset = sorted_eigenvectors[:,0:n_components]\n",
        "print('Eigenvector =')\n",
        "print(eigenvector_subset)"
      ],
      "metadata": {
        "colab": {
          "base_uri": "https://localhost:8080/"
        },
        "id": "ec9lDwwdp_xU",
        "outputId": "badd2c43-0c6b-4bef-ded9-29a8efcf2e8c"
      },
      "execution_count": null,
      "outputs": [
        {
          "output_type": "stream",
          "name": "stdout",
          "text": [
            "Then we find the Eigenvectors and Eigenvectors of the Covariance Matrix and sort the Eigenvalues in descending order.\n",
            "Eigenvector =\n",
            "[[-0.25 0.76 -0.32]\n",
            " [0.89 0.02 -0.21]\n",
            " [-0.02 0.27 -0.50]\n",
            " [0.37 0.55 0.45]\n",
            " [0.11 -0.21 -0.63]]\n"
          ]
        }
      ]
    },
    {
      "cell_type": "code",
      "source": [
        "print('')\n",
        "print('Lastly we compute the dot product between the transpose of the Eigenvector subset and transpose of the mean-centered data. Taking the transpose of the dot product results in data reduced to lower dimensions.')\n",
        "X_reduced = np.dot(eigenvector_subset.transpose(),X_meaned.transpose()).transpose()\n",
        "print('X reduced =')\n",
        "print(X_reduced)"
      ],
      "metadata": {
        "colab": {
          "base_uri": "https://localhost:8080/"
        },
        "id": "wUt6m3pQqAHs",
        "outputId": "69014daa-941b-4735-e4d9-a0275a1259b1"
      },
      "execution_count": null,
      "outputs": [
        {
          "output_type": "stream",
          "name": "stdout",
          "text": [
            "\n",
            "Lastly we compute the dot product between the transpose of the Eigenvector subset and transpose of the mean-centered data. Taking the transpose of the dot product results in data reduced to lower dimensions.\n",
            "X reduced =\n",
            "[[9.33 -4.71 6.72]\n",
            " [-13.29 -9.47 18.90]\n",
            " [15.06 -2.04 -2.92]\n",
            " [-4.27 -17.50 -0.60]\n",
            " [7.14 5.21 -10.44]\n",
            " [13.23 2.16 9.04]\n",
            " [21.10 -11.97 -9.83]\n",
            " [19.67 8.42 1.00]\n",
            " [-19.13 6.47 -15.62]\n",
            " [-28.25 7.73 -8.99]\n",
            " [13.67 12.11 -0.22]\n",
            " [4.45 29.25 1.97]\n",
            " [-1.44 -8.40 11.27]\n",
            " [-14.60 5.68 -21.02]\n",
            " [-20.04 -3.26 15.47]\n",
            " [-8.16 -15.71 -12.74]\n",
            " [-6.01 -15.65 -2.40]\n",
            " [16.81 -15.43 -9.80]\n",
            " [-0.74 28.28 4.41]\n",
            " [-4.54 -1.19 25.78]]\n"
          ]
        }
      ]
    }
  ]
}