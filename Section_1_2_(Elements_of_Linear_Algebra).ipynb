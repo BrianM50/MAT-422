{
  "nbformat": 4,
  "nbformat_minor": 0,
  "metadata": {
    "colab": {
      "provenance": [],
      "authorship_tag": "ABX9TyMJ4r8LD0FShkbSnFzYTuH6",
      "include_colab_link": true
    },
    "kernelspec": {
      "name": "python3",
      "display_name": "Python 3"
    },
    "language_info": {
      "name": "python"
    }
  },
  "cells": [
    {
      "cell_type": "markdown",
      "metadata": {
        "id": "view-in-github",
        "colab_type": "text"
      },
      "source": [
        "<a href=\"https://colab.research.google.com/github/BrianM50/MAT-422/blob/main/Section_1_2_(Elements_of_Linear_Algebra).ipynb\" target=\"_parent\"><img src=\"https://colab.research.google.com/assets/colab-badge.svg\" alt=\"Open In Colab\"/></a>"
      ]
    },
    {
      "cell_type": "markdown",
      "source": [
        "# **Elements of Linear Algebra**"
      ],
      "metadata": {
        "id": "zuIdXdUZ58o7"
      }
    },
    {
      "cell_type": "code",
      "execution_count": null,
      "metadata": {
        "id": "IraaP234IhJD",
        "colab": {
          "base_uri": "https://localhost:8080/"
        },
        "outputId": "bc9316a9-22b3-4715-96d4-777185a1acca"
      },
      "outputs": [
        {
          "output_type": "stream",
          "name": "stdout",
          "text": [
            "Row vector\n",
            "[1 2 3 4 5]\n",
            "Vector mulitplied by a scalar: \n",
            "[1 2 3 4 5] * 2 = [ 2  4  6  8 10]\n"
          ]
        }
      ],
      "source": [
        "import numpy as np\n",
        "import sympy as sympy\n",
        "A = [1,2,3,4,5]\n",
        "vectorA = np.array(A)\n",
        "print('Row vector')\n",
        "print(vectorA)\n",
        "B = vectorA*2\n",
        "print('Vector mulitplied by a scalar: ')\n",
        "print(vectorA,\"* 2 =\",B)"
      ]
    },
    {
      "cell_type": "code",
      "source": [
        "print('In linear algebra a linear combination is a new vector constructed from a subset by multiplying each vector and adding the results.')\n",
        "a = np.array([[1,2,3]])\n",
        "b = np.array([[3,2,1]])\n",
        "c = np.array([[2,1,3]])\n",
        "print('a = ',a,'b = ', b,'c = ', c)\n",
        "print('Linear Combination')\n",
        "print('2a + 3b + 2c')\n",
        "d = 2*a + 3*b +2*c\n",
        "print(d)"
      ],
      "metadata": {
        "colab": {
          "base_uri": "https://localhost:8080/"
        },
        "id": "g-7PcBp77_dZ",
        "outputId": "d42f110e-8d96-463b-a4af-aa26fc17d485"
      },
      "execution_count": null,
      "outputs": [
        {
          "output_type": "stream",
          "name": "stdout",
          "text": [
            "In linear algebra a linear combination is a new vector constructed from a subset by multiplying each vector and adding the results.\n",
            "a =  [[1 2 3]] b =  [[3 2 1]] c =  [[2 1 3]]\n",
            "Linear Combination\n",
            "2a + 3b + 2c\n",
            "[[15 12 15]]\n"
          ]
        }
      ]
    },
    {
      "cell_type": "code",
      "source": [
        "print('A span is a set S of vectors which are the set of linear combinations of vectors in S.')\n",
        "import numpy as np\n",
        "e = np.array([[4,3]])\n",
        "f = np.array([[1,2]])\n",
        "print('e = ', e,  'f = ', f)\n",
        "print('2e + 3f')\n",
        "y = 2*e + 3*f\n",
        "print(y)\n",
        "print('The vectors e, f, and y are all part of the span, R^2.')"
      ],
      "metadata": {
        "colab": {
          "base_uri": "https://localhost:8080/"
        },
        "id": "I8beirKH_vAP",
        "outputId": "62a5d0a9-4c97-4938-a324-c09d1cd204e8"
      },
      "execution_count": null,
      "outputs": [
        {
          "output_type": "stream",
          "name": "stdout",
          "text": [
            "A span is a set S of vectors which are the set of linear combinations of vectors in S.\n",
            "e =  [[4 3]] f =  [[1 2]]\n",
            "2e + 3f\n",
            "[[11 12]]\n",
            "The vectors e, f, and y are all part of the span, R^2.\n"
          ]
        }
      ]
    },
    {
      "cell_type": "code",
      "source": [
        "print('Linear Independence occurs when a list of vectors cannot be written as a linear combinations of one another.')\n",
        "g = np.array([4,5])\n",
        "h = np.array([2,1])\n",
        "print('g =', g, ' h =', h)\n",
        "print('The vectors g and h are linearly independent because they are not multiples of each other (linear combinations).')"
      ],
      "metadata": {
        "colab": {
          "base_uri": "https://localhost:8080/"
        },
        "id": "bCb_wYT3cMnA",
        "outputId": "b860f796-11b3-41fe-c5fd-ff00ffa6a890"
      },
      "execution_count": null,
      "outputs": [
        {
          "output_type": "stream",
          "name": "stdout",
          "text": [
            "Linear Independence occurs when a list of vectors cannot be written as a linear combinations of one another.\n",
            "g = [[4 5]]  h = [[2 1]]\n",
            "The vectors g and h Are linearly independent because they are not multiples of each other (linear combinations).\n"
          ]
        }
      ]
    },
    {
      "cell_type": "code",
      "source": [
        "print('A list of vectors is linear dependent if it can be written as linear combination of the others.')\n",
        "i = np.array([1,3])\n",
        "j = np.array([3,6])\n",
        "print('i =', i, ' j=',j)\n",
        "print('Vectors i and j are linearly dependent because they are multiples of one another.')"
      ],
      "metadata": {
        "colab": {
          "base_uri": "https://localhost:8080/"
        },
        "id": "hthqUrGRe2eX",
        "outputId": "e7d54823-062c-4888-c4d0-4bd4f10810af"
      },
      "execution_count": null,
      "outputs": [
        {
          "output_type": "stream",
          "name": "stdout",
          "text": [
            "A list of vectors is linear dependent if it can be written as linear combination of the others.\n",
            "i = [[1 3]]  j= [[3 6]]\n",
            "Vectors i and j are linearly dependent because they are multiples of one another.\n"
          ]
        }
      ]
    },
    {
      "cell_type": "code",
      "source": [
        "print('Orthogonality is when two vectors are perpendicular to each other. This can be computed by using a dot product. If the dot product equals zero the two vectors are perpendicular.')\n",
        "k = np.array([-4,1])\n",
        "l = np.array([1,4])\n",
        "print('k =', k,' l =',l)\n",
        "print('The dot product of k and l is zero.')\n",
        "print('k*l =', np.dot(k,l))"
      ],
      "metadata": {
        "colab": {
          "base_uri": "https://localhost:8080/"
        },
        "id": "m4qNicmshEzD",
        "outputId": "bb19c820-5df1-46fb-aa4e-eaa1f42fea4f"
      },
      "execution_count": null,
      "outputs": [
        {
          "output_type": "stream",
          "name": "stdout",
          "text": [
            "Orthogonality is when two vectors are perpendicular to each other. This can be computed by using a dot product. If the dot product equals zero the two vectors are perpendicular.\n",
            "k = [-4  1]  l = [1 4]\n",
            "The dot product of k and l is zero.\n",
            "k*l = 0\n"
          ]
        }
      ]
    },
    {
      "cell_type": "code",
      "source": [
        "print('The Gram-Schmidt process is used to convert linearly independent vectors into an orthogonal basis')\n",
        "x1 = np.array([1,1,0])\n",
        "x2 = np.array([-2,0,1])\n",
        "print('Vectors x1 and x2 are linearly independent vectors')\n",
        "print('x1 =',x1,' x2 =',x2)\n",
        "v1 = x1/np.linalg.norm(x1)\n",
        "v2 = x2 - ((np.dot(x2,x1))/np.dot(x1,x1))*x1\n",
        "vo2 = v2/np.linalg.norm(v2)\n",
        "print('We find the orthogonal basis to be')\n",
        "print('v1 =',v1,' v2 =', vo2)"
      ],
      "metadata": {
        "colab": {
          "base_uri": "https://localhost:8080/"
        },
        "id": "hywPZDmQvkxn",
        "outputId": "faffd837-186a-4daf-e8ab-8a1214c93571"
      },
      "execution_count": null,
      "outputs": [
        {
          "output_type": "stream",
          "name": "stdout",
          "text": [
            "The Gram-Schmidt process is used to convert linearly independent vectors into an orthogonal basis\n",
            "Vectors x1 and x2 are linearly independent vectors\n",
            "x1 = [1 1 0]  x2 = [-2  0  1]\n",
            "We find the orthogonal basis to be\n",
            "v1 = [0.70710678 0.70710678 0.        ]  v2 = [-0.57735027  0.57735027  0.57735027]\n"
          ]
        }
      ]
    },
    {
      "cell_type": "code",
      "source": [
        "print('Eigenvalues and Eigenvectors can be computed using the equation Ax = λx, where A is an nxn matrix, λ is eigenvalue an of A, and x is a nx1 column vector, which is called an eigenvector.')\n",
        "import numpy as np\n",
        "from numpy.linalg import eig\n",
        "import scipy.linalg as la\n",
        "mA = np.array([[2,1],[-1,0]])\n",
        "print('Matrix A:')\n",
        "print(mA)\n",
        "eigvals, eigvecs = la.eig(mA)\n",
        "v1 = eigvecs[:,1].reshape(2,1)\n",
        "print('Eigenvalues = ', eigvals.real)\n",
        "print('Eigenvector =')\n",
        "print(v1)"
      ],
      "metadata": {
        "colab": {
          "base_uri": "https://localhost:8080/"
        },
        "id": "u_VrejlLqddR",
        "outputId": "7fb30164-d6f3-4c51-dd0c-282669bd8f26"
      },
      "execution_count": null,
      "outputs": [
        {
          "output_type": "stream",
          "name": "stdout",
          "text": [
            "Eigenvalues and Eigenvectors can be computed using the equation Ax = λx, where A is an nxn matrix, λ is eigenvalue of A, and x is nx1 column vector, which is a called an eigenvector\n",
            "Matrix A:\n",
            "[[ 2  1]\n",
            " [-1  0]]\n",
            "Eigenvalues =  [1. 1.]\n",
            "Eigenvector =\n",
            "[[-0.70710678]\n",
            " [ 0.70710678]]\n"
          ]
        }
      ]
    }
  ]
}