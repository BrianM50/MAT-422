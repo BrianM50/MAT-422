{
  "nbformat": 4,
  "nbformat_minor": 0,
  "metadata": {
    "colab": {
      "provenance": [],
      "authorship_tag": "ABX9TyOF+sTxRHOi44lRA8SbCTHv",
      "include_colab_link": true
    },
    "kernelspec": {
      "name": "python3",
      "display_name": "Python 3"
    },
    "language_info": {
      "name": "python"
    }
  },
  "cells": [
    {
      "cell_type": "markdown",
      "metadata": {
        "id": "view-in-github",
        "colab_type": "text"
      },
      "source": [
        "<a href=\"https://colab.research.google.com/github/BrianM50/MAT-422/blob/main/Section_3_7(Neural_Networks).ipynb\" target=\"_parent\"><img src=\"https://colab.research.google.com/assets/colab-badge.svg\" alt=\"Open In Colab\"/></a>"
      ]
    },
    {
      "cell_type": "code",
      "execution_count": 1,
      "metadata": {
        "colab": {
          "base_uri": "https://localhost:8080/"
        },
        "id": "5M2WTV6C9t3n",
        "outputId": "024e2253-12f2-46b8-b828-d164850d2484"
      },
      "outputs": [
        {
          "output_type": "stream",
          "name": "stdout",
          "text": [
            "Artificial neural networks is a collection of connected layers of units or nodes to loosely model the neurons in a biological brain.\n",
            "Given an input or set of inputs, the activation function of a node defines the output of that node.\n"
          ]
        }
      ],
      "source": [
        "import matplotlib.pyplot as plt\n",
        "import seaborn; seaborn.set()\n",
        "from numpy import exp, array, append, sum, dot, log10\n",
        "\n",
        "\n",
        "print('Artificial neural networks is a collection of connected layers of units or nodes to loosely model the neurons in a biological brain.')\n",
        "print('Given an input or set of inputs, the activation function of a node defines the output of that node.')"
      ]
    },
    {
      "cell_type": "code",
      "source": [
        "print('The sigmoid function is a mathmatical function that is used in binary classification and has a characteristic \"S\"-shaped curve.')\n",
        "\n",
        "#Sigmoid activation function\n",
        "def Sigmoid(x):\n",
        "    return 1 / (1 + exp(-x))\n",
        "\n",
        "for i in array([range(-10, 10)]):\n",
        "  x = append(array([]), i)\n",
        "  plt.plot(x, Sigmoid(x))\n",
        "  plt.title(\"Sigmoid activation function\")\n",
        "  plt.xlabel(\"x\")\n",
        "  plt.ylabel(\"S(x)\")"
      ],
      "metadata": {
        "colab": {
          "base_uri": "https://localhost:8080/",
          "height": 497
        },
        "id": "XLw4FVQr-gPf",
        "outputId": "2f0f598f-587f-4548-d884-c181bda9d33a"
      },
      "execution_count": 2,
      "outputs": [
        {
          "output_type": "stream",
          "name": "stdout",
          "text": [
            "The sigmoid function is a mathmatical function that is used in binary classification and has a characteristic \"S\"-shaped curve.\n"
          ]
        },
        {
          "output_type": "display_data",
          "data": {
            "text/plain": [
              "<Figure size 640x480 with 1 Axes>"
            ],
            "image/png": "[encoded data removed]"
          },
          "metadata": {}
        }
      ]
    },
    {
      "cell_type": "code",
      "source": [
        "print('The softmax activation function is used for multi-class classification, meaning that it will calculate the porbabilities of each target class ovar all possible taget classes')\n",
        "\n",
        "#Softmax activation function\n",
        "def Softmax(x):\n",
        "    return exp(x) / sum(exp(x))\n",
        "\n",
        "x = array([1, 2, 3, 4, 5, 6])\n",
        "\n",
        "Softmax(x)"
      ],
      "metadata": {
        "colab": {
          "base_uri": "https://localhost:8080/"
        },
        "id": "89nboLjbA8kZ",
        "outputId": "2f995738-fab2-414b-9c4f-50d2ad0e3a3b"
      },
      "execution_count": 3,
      "outputs": [
        {
          "output_type": "stream",
          "name": "stdout",
          "text": [
            "The softmax activation function is used for multi-class classification, meaning that it will calculate the porbabilities of each target class ovar all possible taget classes\n"
          ]
        },
        {
          "output_type": "execute_result",
          "data": {
            "text/plain": [
              "array([0.00426978, 0.01160646, 0.03154963, 0.08576079, 0.23312201,\n",
              "       0.63369132])"
            ]
          },
          "metadata": {},
          "execution_count": 3
        }
      ]
    },
    {
      "cell_type": "code",
      "source": [
        "print('The ReLU function, which stands for Rectified Linear Units, allows for faster and more effective training of deep neaural architactives on large and complex datatsets compared to other functions.')\n",
        "print('This function has an output of 0 if the input is less than 0, and raw output otherwise.')\n",
        "\n",
        "#ReLU activation function\n",
        "def ReLU(x):\n",
        "    return x * (x>0)\n",
        "\n",
        "x = array(range(-10, 10))\n",
        "plt.plot(x, ReLU(x))\n",
        "plt.title(\"ReLU activation function\")\n",
        "plt.xlabel(\"x\")\n",
        "plt.ylabel(\"ReLU(x)\")"
      ],
      "metadata": {
        "colab": {
          "base_uri": "https://localhost:8080/",
          "height": 552
        },
        "id": "Y-MIbSeRCblM",
        "outputId": "8f95d8f8-ba04-45d1-9393-7546804d0420"
      },
      "execution_count": 4,
      "outputs": [
        {
          "output_type": "stream",
          "name": "stdout",
          "text": [
            "The ReLU function, which stands for Rectified Linear Units, allows for faster and more effective training of deep neaural architactives on large and complex datatsets compared to other functions.\n",
            "This function has an output of 0 if the input is less than 0, and raw output otherwise.\n"
          ]
        },
        {
          "output_type": "execute_result",
          "data": {
            "text/plain": [
              "Text(0, 0.5, 'ReLU(x)')"
            ]
          },
          "metadata": {},
          "execution_count": 4
        },
        {
          "output_type": "display_data",
          "data": {
            "text/plain": [
              "<Figure size 640x480 with 1 Axes>"
            ],
            "image/png": "[encoded data removed]"
          },
          "metadata": {}
        }
      ]
    },
    {
      "cell_type": "code",
      "source": [
        "print('The process of feeding the Neural Network with a set of inputs to get their dot products with their weights then feeding the latter to an activation function and comparinhg its numerical value to the actual output called \"the ground truth\" is known as Forward Propagation.')\n",
        "\n",
        "#input\n",
        "i = array([[0.1, 0.4, 0.5]])\n",
        "\n",
        "#Initial weights of the first and second layer\n",
        "wij = array([[0.1, 0.2, 0.4, 0.3],\n",
        "             [0.5, 0.4, 0.7, 0.9],\n",
        "             [0.2, 0.6, 0.3, 0.8]])\n",
        "wjk = array([[0.2],\n",
        "             [0.3],\n",
        "             [0.6],\n",
        "             [0.1]])\n",
        "\n",
        "#Calculate the dot product of the inputs and weights of the hidden layer\n",
        "zij = dot(i, wij)\n",
        "#Apply the ReLU function\n",
        "aij = ReLU(zij)\n",
        "#Dot product of the inputs in hidden layer after activation and weights of the second layer\n",
        "zjk = dot(aij, wjk)\n",
        "#Apply the Sigmoid activation function\n",
        "ajk = Sigmoid(zjk)\n",
        "print('The predicted output is', ajk)"
      ],
      "metadata": {
        "colab": {
          "base_uri": "https://localhost:8080/"
        },
        "id": "jR9X1lu9KL2q",
        "outputId": "028870c0-7307-4a1a-d8fa-c362056f2561"
      },
      "execution_count": 5,
      "outputs": [
        {
          "output_type": "stream",
          "name": "stdout",
          "text": [
            "The process of feeding the Neural Network with a set of inputs to get their dot products with their weights then feeding the latter to an activation function and comparinhg its numerical value to the actual output called \"the ground truth\" is known as Forward Propagation.\n",
            "The predicted output is [[0.63807065]]\n"
          ]
        }
      ]
    },
    {
      "cell_type": "code",
      "source": [
        "print('Cross-entropy loss is used to measure the preformance of a classification model whose output is a probability between 0 and 1.')\n",
        "\n",
        "#Cross-entropy error function\n",
        "def Crossentropyerror(a, y):\n",
        "    return - sum(y * log10(a) + (1 - y) * log10(1 - a))\n",
        "\n",
        "#Output of the neural network\n",
        "a = ajk\n",
        "#Ground truth\n",
        "y = array([[1]])\n",
        "c = Crossentropyerror(a, y)\n",
        "print('The cross-entropy error is', c)"
      ],
      "metadata": {
        "colab": {
          "base_uri": "https://localhost:8080/"
        },
        "id": "sM_Qt433_qb1",
        "outputId": "3d614f79-3c42-465d-d12a-a93e81324e6a"
      },
      "execution_count": 6,
      "outputs": [
        {
          "output_type": "stream",
          "name": "stdout",
          "text": [
            "Cross-entropy loss is used to measure the preformance of a classification model whose output is a probability between 0 and 1.\n",
            "The cross-entropy error is 0.19513122954797735\n"
          ]
        }
      ]
    },
    {
      "cell_type": "code",
      "source": [
        "print('In artifical neural networks backpropagation is a method used to calculate a gradient that is needed in the calculation of the weights to be used in the network.')\n",
        "\n",
        "#Derivative of the Sigmoid activation function\n",
        "def SigmoidDerivative(x):\n",
        "    return Sigmoid(x) * (1 - Sigmoid(x))\n",
        "\n",
        "#Derivative of the ReLU activation function\n",
        "def ReLUDerivative(x):\n",
        "    return 1. * (x > 0)"
      ],
      "metadata": {
        "colab": {
          "base_uri": "https://localhost:8080/"
        },
        "id": "UmY2_mc-Ej3c",
        "outputId": "558dfe01-781b-4801-bfb4-6101f032152a"
      },
      "execution_count": 7,
      "outputs": [
        {
          "output_type": "stream",
          "name": "stdout",
          "text": [
            "In artifical neural networks backpropagation is a method used to calculate a gradient that is needed in the calculation of the weights to be used in the network.\n"
          ]
        }
      ]
    },
    {
      "cell_type": "code",
      "source": [
        "#Backprogation from the output layer to hidden layer\n",
        "dljk = -y/ajk + (1-y)/(1-ajk)\n",
        "dajk = SigmoidDerivative(zjk)\n",
        "dzjk = aij\n",
        "gradientjk = dot(dzjk.T, dljk * dajk)\n",
        "print('Gradientjk:')\n",
        "print(gradientjk, '\\n')\n",
        "\n",
        "#Backpropagation from the hidden layer to the output layer\n",
        "dlij = dot(dajk * dljk, wjk.T)\n",
        "daij = ReLUDerivative(zij)\n",
        "dzij = i\n",
        "gradientij = dot(dzij.T, dlij * daij)\n",
        "print('Gradientij:')\n",
        "print(gradientij, '\\n')\n",
        "\n",
        "wij = wij - gradientij\n",
        "wjk = wjk - gradientjk\n",
        "print('The new weights after the backpropagation process: ')\n",
        "print('New hidden layer weights = wij:')\n",
        "print(wij)\n",
        "print('The new output layer weights = wjk:')\n",
        "print(wjk, '\\n')\n",
        "\n",
        "#Predicting the output with the new updated weights\n",
        "zij = dot(i, wij)\n",
        "aij = ReLU(zij)\n",
        "zjk = dot(aij, wjk)\n",
        "ajk = Sigmoid(zjk)\n",
        "print('New predicted output: ', ajk)\n",
        "print('This new predicted output is closer to the ground truth than the intial output')"
      ],
      "metadata": {
        "id": "n8xDZ9jeJ3Xq",
        "colab": {
          "base_uri": "https://localhost:8080/"
        },
        "outputId": "6677bc67-0f78-40d0-cd44-34c1b39c775c"
      },
      "execution_count": 8,
      "outputs": [
        {
          "output_type": "stream",
          "name": "stdout",
          "text": [
            "Gradientjk:\n",
            "[[-0.1121981 ]\n",
            " [-0.17372609]\n",
            " [-0.17010679]\n",
            " [-0.28592418]] \n",
            "\n",
            "Gradientij:\n",
            "[[-0.00723859 -0.01085788 -0.02171576 -0.00361929]\n",
            " [-0.02895435 -0.04343152 -0.08686304 -0.01447717]\n",
            " [-0.03619293 -0.0542894  -0.1085788  -0.01809647]] \n",
            "\n",
            "The new weights after the backpropagation process: \n",
            "New hidden layer weights = wij:\n",
            "[[0.10723859 0.21085788 0.42171576 0.30361929]\n",
            " [0.52895435 0.44343152 0.78686304 0.91447717]\n",
            " [0.23619293 0.6542894  0.4085788  0.81809647]]\n",
            "The new output layer weights = wjk:\n",
            "[[0.3121981 ]\n",
            " [0.47372609]\n",
            " [0.77010679]\n",
            " [0.38592418]] \n",
            "\n",
            "New predicted output:  [[0.74992269]]\n",
            "This new predicted output is closer to the ground truth than the intial output\n"
          ]
        }
      ]
    }
  ]
}