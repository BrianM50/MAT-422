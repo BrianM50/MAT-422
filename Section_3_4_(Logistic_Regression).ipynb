{
  "nbformat": 4,
  "nbformat_minor": 0,
  "metadata": {
    "colab": {
      "provenance": [],
      "authorship_tag": "ABX9TyOav5rsc5iELUY1wuYT5iDK",
      "include_colab_link": true
    },
    "kernelspec": {
      "name": "python3",
      "display_name": "Python 3"
    },
    "language_info": {
      "name": "python"
    }
  },
  "cells": [
    {
      "cell_type": "markdown",
      "metadata": {
        "id": "view-in-github",
        "colab_type": "text"
      },
      "source": [
        "<a href=\"https://colab.research.google.com/github/BrianM50/MAT-422/blob/main/Section_3_4_(Logistic_Regression).ipynb\" target=\"_parent\"><img src=\"https://colab.research.google.com/assets/colab-badge.svg\" alt=\"Open In Colab\"/></a>"
      ]
    },
    {
      "cell_type": "code",
      "execution_count": 4,
      "metadata": {
        "colab": {
          "base_uri": "https://localhost:8080/"
        },
        "id": "obcIvB014RnY",
        "outputId": "546274d3-7963-4b00-d033-2d0206cb5246"
      },
      "outputs": [
        {
          "output_type": "stream",
          "name": "stdout",
          "text": [
            "Logistic Regression is a model that uses a logistic function to model a binary dependent variable in its basic form.\n"
          ]
        }
      ],
      "source": [
        "import matplotlib.pyplot as plt\n",
        "import numpy as np\n",
        "from sklearn.linear_model import LogisticRegression\n",
        "from sklearn.metrics import classification_report, confusion_matrix\n",
        "print('Logistic Regression is a model that uses a logistic function to model a binary dependent variable in its basic form.')"
      ]
    },
    {
      "cell_type": "code",
      "source": [
        "# x has a column for a single input and ten rows each is an observation\n",
        "# y has ten items of either 1 or 0, each being one observation\n",
        "x = np.arange(10).reshape(-1, 1)\n",
        "y = np.array([0, 0, 0, 0, 0, 1, 1, 1, 1, 1])\n",
        "\n",
        "# Classification model\n",
        "model = LogisticRegression(solver='liblinear', random_state=0)\n",
        "\n",
        "# Model fitting which determines the coefficients that correspond to the best value of the cost function\n",
        "model.fit(x, y)\n",
        "\n",
        "PM = model.predict_proba(x)\n",
        "print('This is the matrix that has the probabilities that predict whether the output is equal to zero or one.')\n",
        "print(PM)\n",
        "print('Each row of the matrix corresponds to one observation.')\n",
        "print('The first column is the probability that the predicted output is zero.')\n",
        "print('The second column is the probability that the predicted output is one.')"
      ],
      "metadata": {
        "id": "YmrUPTUz6Pt1",
        "colab": {
          "base_uri": "https://localhost:8080/"
        },
        "outputId": "cd03de51-c20a-4929-ebe4-f1d85f149e98"
      },
      "execution_count": 5,
      "outputs": [
        {
          "output_type": "stream",
          "name": "stdout",
          "text": [
            "This is the matrix that has the probabilities that predict whether the output is equal to zero or one.\n",
            "[[0.76881371 0.23118629]\n",
            " [0.68800809 0.31199191]\n",
            " [0.59387837 0.40612163]\n",
            " [0.49230569 0.50769431]\n",
            " [0.39136427 0.60863573]\n",
            " [0.29893328 0.70106672]\n",
            " [0.22042624 0.77957376]\n",
            " [0.15789351 0.84210649]\n",
            " [0.11058424 0.88941576]\n",
            " [0.07616801 0.92383199]]\n",
            "Each row of the matrix corresponds to one observation.\n",
            "The first column is the probability that the predicted output is zero.\n",
            "The second column is the probability that the predicted output is one.\n"
          ]
        }
      ]
    },
    {
      "cell_type": "code",
      "source": [
        "pred = model.predict(x)\n",
        "print('The predicted output values as an array:')\n",
        "print(pred, '\\n')\n",
        "\n",
        "score = model.score(x, y)\n",
        "print('The accuracy of the model is ', score, '\\n')\n",
        "\n",
        "print('To get more information regarding the accuracy of the model, we can use a confusion matrix')\n",
        "cm = confusion_matrix(y, pred)\n",
        "print('Confusion Matrix: ')\n",
        "print(cm)\n",
        "print('The confusion matirx shows that: ')\n",
        "print(' -There are three true negative predictions, which means the first three obserations being zeros is correct.')\n",
        "print(' -There was no false negative predictions, meaning there was no observations that were wrongly predicted to be zeros.')\n",
        "print(' -There was two false positive predictions, which means that the fourth and fifth observations were wrongly predicted as one when they should be zero.')\n",
        "print(' -There was five true positive predictions, meaning the last six observations were correctly predicted as ones. ')"
      ],
      "metadata": {
        "colab": {
          "base_uri": "https://localhost:8080/"
        },
        "id": "viXR96tQZ_ij",
        "outputId": "d2915625-b3da-472e-8c81-bfcfbda5052b"
      },
      "execution_count": 6,
      "outputs": [
        {
          "output_type": "stream",
          "name": "stdout",
          "text": [
            "The predicted output values as an array:\n",
            "[0 0 0 1 1 1 1 1 1 1] \n",
            "\n",
            "The accuracy of the model is  0.8 \n",
            "\n",
            "To get more information regarding the accuracy of the model, we can use a confusion matrix\n",
            "Confusion Matrix: \n",
            "[[3 2]\n",
            " [0 5]]\n",
            "The confusion matirx shows that: \n",
            " -There are three true negative predictions, which means the first three obserations being zeros is correct.\n",
            " -There was no false negative predictions, meaning there was no observations that were wrongly predicted to be zeros.\n",
            " -There was two false positive predictions, which means that the fourth and fifth observations were wrongly predicted as one when they should be zero.\n",
            " -There was five true positive predictions, meaning the last six observations were correctly predicted as ones. \n"
          ]
        }
      ]
    },
    {
      "cell_type": "code",
      "source": [
        "# Heatmap that represents the confusion matrix\n",
        "fig, ax = plt.subplots(figsize=(8, 8))\n",
        "ax.imshow(cm)\n",
        "ax.grid(False)\n",
        "ax.xaxis.set(ticks=(0, 1), ticklabels=('Predicted 0s', 'Predicted 1s'))\n",
        "ax.yaxis.set(ticks=(0, 1), ticklabels=('Actual 0s', 'Actual 1s'))\n",
        "ax.set_ylim(1.5, -0.5)\n",
        "for i in range(2):\n",
        "    for j in range(2):\n",
        "        ax.text(j, i, cm[i, j], ha='center', va='center', color='red')\n",
        "plt.show()\n",
        "print(classification_report(y, pred))"
      ],
      "metadata": {
        "colab": {
          "base_uri": "https://localhost:8080/",
          "height": 832
        },
        "id": "Nfi9AxqshluO",
        "outputId": "25078c6e-2056-4dac-9a49-9cc30e70259a"
      },
      "execution_count": 7,
      "outputs": [
        {
          "output_type": "display_data",
          "data": {
            "text/plain": [
              "<Figure size 800x800 with 1 Axes>"
            ],
            "image/png": "[encoded data removed]"
          },
          "metadata": {}
        },
        {
          "output_type": "stream",
          "name": "stdout",
          "text": [
            "              precision    recall  f1-score   support\n",
            "\n",
            "           0       1.00      0.60      0.75         5\n",
            "           1       0.71      1.00      0.83         5\n",
            "\n",
            "    accuracy                           0.80        10\n",
            "   macro avg       0.86      0.80      0.79        10\n",
            "weighted avg       0.86      0.80      0.79        10\n",
            "\n"
          ]
        }
      ]
    },
    {
      "cell_type": "code",
      "source": [
        "print('To improve the model we can use different parameters, such as setting the regulariztion strength equal to 10.0 instead of 1.0. \\n')\n",
        "\n",
        "model2 = LogisticRegression(solver='liblinear', C=10.0, random_state=0)\n",
        "model2.fit(x, y)\n",
        "\n",
        "PM2 = model2.predict_proba(x)\n",
        "print('Prediction Matrix: ')\n",
        "print(PM2)"
      ],
      "metadata": {
        "colab": {
          "base_uri": "https://localhost:8080/"
        },
        "id": "B9Le278XilE_",
        "outputId": "8e585e98-bc8d-4fa7-cfcc-202f2040d9da"
      },
      "execution_count": 9,
      "outputs": [
        {
          "output_type": "stream",
          "name": "stdout",
          "text": [
            "To improve the model we can use different parameters, such as setting the regulariztion strength equal to 10.0 instead of 1.0. \n",
            "\n",
            "Prediction Matrix: \n",
            "[[0.97979027 0.02020973]\n",
            " [0.94958202 0.05041798]\n",
            " [0.87976149 0.12023851]\n",
            " [0.73975066 0.26024934]\n",
            " [0.52477284 0.47522716]\n",
            " [0.30020373 0.69979627]\n",
            " [0.1428487  0.8571513 ]\n",
            " [0.06080627 0.93919373]\n",
            " [0.02453462 0.97546538]\n",
            " [0.00967652 0.99032348]]\n"
          ]
        }
      ]
    },
    {
      "cell_type": "code",
      "source": [
        "pred2 = model2.predict(x)\n",
        "print('The predicted output values as an array:')\n",
        "print(pred2, '\\n')\n",
        "\n",
        "score2 = model2.score(x, y)\n",
        "print('The accuracy of the model is ', score2, '\\n')\n",
        "\n",
        "cm2 = confusion_matrix(y, pred2)\n",
        "print('Confusion Matrix: ')\n",
        "print(cm2)"
      ],
      "metadata": {
        "colab": {
          "base_uri": "https://localhost:8080/"
        },
        "id": "cxesKRbcR3Qz",
        "outputId": "eb5862a6-eaa5-4881-d989-d69dbf86b954"
      },
      "execution_count": 10,
      "outputs": [
        {
          "output_type": "stream",
          "name": "stdout",
          "text": [
            "The predicted output values as an array:\n",
            "[0 0 0 0 0 1 1 1 1 1] \n",
            "\n",
            "The accuracy of the model is  1.0 \n",
            "\n",
            "Confusion Matrix: \n",
            "[[5 0]\n",
            " [0 5]]\n"
          ]
        }
      ]
    },
    {
      "cell_type": "code",
      "source": [
        "# Heatmap that represents the improved confusion matrix\n",
        "fig, ax = plt.subplots(figsize=(8, 8))\n",
        "ax.imshow(cm2)\n",
        "ax.grid(False)\n",
        "ax.xaxis.set(ticks=(0, 1), ticklabels=('Predicted 0s', 'Predicted 1s'))\n",
        "ax.yaxis.set(ticks=(0, 1), ticklabels=('Actual 0s', 'Actual 1s'))\n",
        "ax.set_ylim(1.5, -0.5)\n",
        "for i in range(2):\n",
        "    for j in range(2):\n",
        "        ax.text(j, i, cm2[i, j], ha='center', va='center', color='red')\n",
        "plt.show()\n",
        "print(classification_report(y, pred2))"
      ],
      "metadata": {
        "colab": {
          "base_uri": "https://localhost:8080/",
          "height": 832
        },
        "id": "wdFwg92iSXDK",
        "outputId": "73380e6b-769d-4457-f2a0-a4249c739bac"
      },
      "execution_count": 11,
      "outputs": [
        {
          "output_type": "display_data",
          "data": {
            "text/plain": [
              "<Figure size 800x800 with 1 Axes>"
            ],
            "image/png": "[encoded data removed]"
          },
          "metadata": {}
        },
        {
          "output_type": "stream",
          "name": "stdout",
          "text": [
            "              precision    recall  f1-score   support\n",
            "\n",
            "           0       1.00      1.00      1.00         5\n",
            "           1       1.00      1.00      1.00         5\n",
            "\n",
            "    accuracy                           1.00        10\n",
            "   macro avg       1.00      1.00      1.00        10\n",
            "weighted avg       1.00      1.00      1.00        10\n",
            "\n"
          ]
        }
      ]
    }
  ]
}