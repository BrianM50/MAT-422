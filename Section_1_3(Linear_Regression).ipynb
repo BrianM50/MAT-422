{
  "nbformat": 4,
  "nbformat_minor": 0,
  "metadata": {
    "colab": {
      "provenance": [],
      "authorship_tag": "ABX9TyOIQectI+kCyycZEQbpMLvj",
      "include_colab_link": true
    },
    "kernelspec": {
      "name": "python3",
      "display_name": "Python 3"
    },
    "language_info": {
      "name": "python"
    }
  },
  "cells": [
    {
      "cell_type": "markdown",
      "metadata": {
        "id": "view-in-github",
        "colab_type": "text"
      },
      "source": [
        "<a href=\"https://colab.research.google.com/github/BrianM50/MAT-422/blob/main/Section_1_3(Linear_Regression).ipynb\" target=\"_parent\"><img src=\"https://colab.research.google.com/assets/colab-badge.svg\" alt=\"Open In Colab\"/></a>"
      ]
    },
    {
      "cell_type": "markdown",
      "source": [
        "# **Linear** **Regression**"
      ],
      "metadata": {
        "id": "l39Uamx6qVAz"
      }
    },
    {
      "cell_type": "code",
      "execution_count": 49,
      "metadata": {
        "id": "iK1B7c0-a4D0",
        "colab": {
          "base_uri": "https://localhost:8080/"
        },
        "outputId": "bb888bda-3e19-4396-f44e-5c502b1fa932"
      },
      "outputs": [
        {
          "output_type": "stream",
          "name": "stdout",
          "text": [
            "QR decomposition is used to solve the linear least squares problem. Using the Gram-Schmidt process we break down Matrix so that A = QR, where Q is an orthnormal matrix and R is an upper triangular matrix R.\n",
            "Matrix A\n",
            "[[20. 15. 30.]\n",
            " [15. 50. 48.]\n",
            " [ 5. 24.  6.]]\n",
            "x1 = [20 15  5]  x2 = [15 50 24]  x3 = [30 48  6]\n",
            "\n",
            "We find the orthnormal basis to be\n",
            "v1 = [0.78446454 0.58834841 0.19611614]  v2 = [-0.6074847   0.66534038  0.43391764]  v3 = [-0.12481077  0.45953055 -0.87934859]\n",
            "\n",
            "The Matrix Q will then be\n",
            "[[[ 0.78446454 -0.6074847  -0.12481077]]\n",
            "\n",
            " [[ 0.58834841  0.66534038  0.45953055]]\n",
            "\n",
            " [[ 0.19611614  0.43391764 -0.87934859]]]\n",
            "\n",
            "To find R we need to multiply the transpose of Q by A, Q^(T)A = R\n",
            "R =\n",
            "[[[25. 46. 53.]]\n",
            "\n",
            " [[ 0. 35. 16.]]\n",
            "\n",
            " [[-0. -0. 13.]]]\n"
          ]
        }
      ],
      "source": [
        "print(\"QR decomposition is used to solve the linear least squares problem. Using the Gram-Schmidt process we break down Matrix so that A = QR, where Q is an orthnormal matrix and R is an upper triangular matrix R.\")\n",
        "import numpy as np\n",
        "A = np.array([[20,15,30],[15,50,48],[5,24,6]], dtype = float)\n",
        "print(\"Matrix A\")\n",
        "print(A)\n",
        "x1 = np.array([20,15,5])\n",
        "x2 = np.array([15,50,24])\n",
        "x3 = np.array([30,48,6])\n",
        "print('x1 =',x1,' x2 =', x2,' x3 =', x3)\n",
        "v1 = x1/np.linalg.norm(x1)\n",
        "v2 = x2 - ((np.dot(x2,x1))/np.dot(x1,x1))*x1\n",
        "vo2 = v2/np.linalg.norm(v2)\n",
        "v3 = x3 - (((np.dot(x3,x1))/np.dot(x1,x1))*x1) - (((np.dot(x3,v2))/np.dot(v2,v2))*v2)\n",
        "vo3 = v3/np.linalg.norm(v3)\n",
        "print('')\n",
        "print('We find the orthnormal basis to be')\n",
        "print('v1 =', v1, ' v2 =', vo2,' v3 =', vo3)\n",
        "print('')\n",
        "print('The Matrix Q will then be')\n",
        "Qtranspose = np.array([[v1],[vo2],[vo3]])\n",
        "Q = Qtranspose.transpose()\n",
        "print(Q)\n",
        "print('')\n",
        "print('To find R we need to multiply the transpose of Q by A, Q^(T)A = R')\n",
        "r = np.dot(Qtranspose, A)\n",
        "R = np.rint(r)\n",
        "print('R =')\n",
        "print(R)"
      ]
    },
    {
      "cell_type": "code",
      "source": [
        "print('The least-squares problems involves solving for the system Ax = b, where A is a nxm matrix. Since matrix A is not a square matrix we have to use QR decomposition to solve the system')\n",
        "print('Ax = b')\n",
        "print('QRx = b')\n",
        "print('Rx = Q^(T)b')\n",
        "print('x = R^(-1)Q^(T)b')\n",
        "import numpy as np\n",
        "import math\n",
        "B = np.array([[0,1],[1, 3],[2, 1]], dtype = float)\n",
        "print('')\n",
        "print(\"Matrix A\")\n",
        "print(B)\n",
        "y1 = np.array([0,1,2])\n",
        "y2 = np.array([1,3,1])\n",
        "print('y1 =',y1,' y2 =', y2)\n",
        "print('')\n",
        "ve1 = y1/np.linalg.norm(y1)\n",
        "ve2 = y2 - ((np.dot(y2,y1))/np.dot(y1,y1))*y1\n",
        "vec2 = ve2/np.linalg.norm(ve2)\n",
        "print('We find the orthnormal basis to be')\n",
        "print('v1 =', ve1, ' v2 =', vec2)\n",
        "Q = np.array([[0,(math.sqrt(6))/6],[(math.sqrt(5))/5,(math.sqrt(6))/3],[2*(math.sqrt(5))/5,-(math.sqrt(6))/6]])\n",
        "print('')\n",
        "print('The Matrix Q is')\n",
        "print(Q)\n",
        "\n",
        "print('')\n",
        "R = np.dot(Q.transpose(),B)\n",
        "print('The R matrix is')\n",
        "print(np.rint(R))\n",
        "\n",
        "print('')\n",
        "print('Let vector b be')\n",
        "b = np.array([[1],[5],[6]], dtype = float)\n",
        "print(b)\n",
        "print('')\n",
        "print('Now that we have the matices Q and R we can solve for x using the system QRx = b')\n",
        "Qt = Q.transpose()\n",
        "Rinv = np.linalg.inv(R)\n",
        "print('Q^(T) =')\n",
        "print(Qt)\n",
        "print('')\n",
        "print('R^(-1) =')\n",
        "print(Rinv)\n",
        "print('')\n",
        "Qb = np.dot(Qt,b)\n",
        "x = np.dot(Rinv, Qb)\n",
        "print('Plugging these matrices into the equation x = R^(-1)Q^(T)b, we get x =')\n",
        "print(x)\n",
        "print('')\n",
        "print('To check this is the correct x we multiply the matrix A by x to get b, Ax = b')\n",
        "vecb = np.dot(B,x)\n",
        "print(np.rint(vecb))"
      ],
      "metadata": {
        "colab": {
          "base_uri": "https://localhost:8080/"
        },
        "id": "wNyh1iX01KB1",
        "outputId": "b28cad5e-d5ba-424d-f82b-3d20ace1676f"
      },
      "execution_count": 6,
      "outputs": [
        {
          "output_type": "stream",
          "name": "stdout",
          "text": [
            "The least-squares problems involves solving for the system Ax = b, where A is a nxm matrix. Since matrix A is not a square matrix we have to use QR decomposition to solve the system\n",
            "Ax = b\n",
            "QRx = b\n",
            "Rx = Q^(T)b\n",
            "x = R^(-1)Q^(T)b\n",
            "\n",
            "Matrix A\n",
            "[[0. 1.]\n",
            " [1. 3.]\n",
            " [2. 1.]]\n",
            "y1 = [0 1 2]  y2 = [1 3 1]\n",
            "\n",
            "We find the orthnormal basis to be\n",
            "v1 = [0.         0.4472136  0.89442719]  v2 = [ 0.40824829  0.81649658 -0.40824829]\n",
            "\n",
            "The Matrix Q is\n",
            "[[ 0.          0.40824829]\n",
            " [ 0.4472136   0.81649658]\n",
            " [ 0.89442719 -0.40824829]]\n",
            "\n",
            "The R matrix is\n",
            "[[2. 2.]\n",
            " [0. 2.]]\n",
            "\n",
            "Let vector b be\n",
            "[[1.]\n",
            " [5.]\n",
            " [6.]]\n",
            "\n",
            "Now that we have the matices Q and R we can solve for x using the system QRx = b\n",
            "Q^(T) =\n",
            "[[ 0.          0.4472136   0.89442719]\n",
            " [ 0.40824829  0.81649658 -0.40824829]]\n",
            "\n",
            "R^(-1) =\n",
            "[[ 0.4472136  -0.40824829]\n",
            " [ 0.          0.40824829]]\n",
            "\n",
            "Plugging these matrices into the equation x = R^(-1)Q^(T)b, we get x =\n",
            "[[2.56666667]\n",
            " [0.83333333]]\n",
            "\n",
            "To check this is the correct x we multiply the matrix A by x to get b, Ax = b\n",
            "[[1.]\n",
            " [5.]\n",
            " [6.]]\n"
          ]
        }
      ]
    }
  ]
}